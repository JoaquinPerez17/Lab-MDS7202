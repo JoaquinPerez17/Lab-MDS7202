{
  "cells": [
    {
      "cell_type": "markdown",
      "metadata": {
        "cell_id": "4d7d5ac6-d4e1-4609-9a3f-d6649322fa97",
        "deepnote_cell_height": 105.390625,
        "deepnote_cell_type": "markdown",
        "id": "tkOOBWxCg_vW"
      },
      "source": [
        "<h1><center>Laboratorio 0: Practicando en Python </center></h1>\n",
        "\n",
        "<center><strong>MDS7202: Laboratorio de Programación Científica para Ciencia de Datos - Primavera 2021</strong></center>\n",
        "\n",
        "---"
      ],
      "id": "tkOOBWxCg_vW"
    },
    {
      "cell_type": "markdown",
      "metadata": {
        "cell_id": "7ebd312b195c4d02a21a0af750fa5474",
        "deepnote_cell_height": 591.1875,
        "deepnote_cell_type": "markdown",
        "tags": [],
        "id": "TUhMc1zig_vY"
      },
      "source": [
        "<center> <img src=https://miro.medium.com/max/1388/1*v6CPVlDCr5kdIpj7O6D7VA.gif width=400/> </center>\n",
        "\n",
        "### Cuerpo Docente:\n",
        "\n",
        "- Profesor: Matías Rojas y Mauricio Araneda\n",
        "- Auxiliar: Ignacio Meza D.\n",
        "- Ayudante: Rodrigo Guerra\n",
        "\n",
        "### Objetivos del lab: \n",
        "\n",
        "- El objetivo de este lab es que ustedes puedan practicar con el lenguaje de python, aplicando los conocimientos vistos hasta ahora en el curso. La realización de este laboratorio es completamente opcional.\n",
        "\n",
        "#### Integrantes:\n",
        "- Felipe Aguilar\n",
        "- Joaquín Pérez\n",
        "\n",
        "#### Link al github: https://github.com/JoaquinPerez17/Lab-MDS7202.git"
      ],
      "id": "TUhMc1zig_vY"
    },
    {
      "cell_type": "markdown",
      "metadata": {
        "cell_id": "00006-0087f4d5-bcba-4dc5-ad6a-083b239f86d5",
        "deepnote_cell_height": 108.390625,
        "deepnote_cell_type": "markdown",
        "id": "FJ-YUObBg_vY"
      },
      "source": [
        "## Problemas con Listas y Strings 💻\n",
        "\n",
        "Por cada uno de estos problemas, elabore una **función** que los resuelva:"
      ],
      "id": "FJ-YUObBg_vY"
    },
    {
      "cell_type": "markdown",
      "metadata": {
        "cell_id": "00007-d00af88a-bb30-4b80-961f-6798fd8f25e1",
        "deepnote_cell_height": 384.3125,
        "deepnote_cell_type": "markdown",
        "id": "f3kb_M-Jg_vZ"
      },
      "source": [
        "### Pregunta 1 \n",
        "\n",
        "Dada una lista de $n$ elementos, no necesariamente ordenada, defina funciones que busquen:\n",
        "- El elemento menor.\n",
        "- El elemento mayor.\n",
        "- El promedio de los elementos en la lista.\n",
        "\n",
        "Ejemplo:\n",
        "```python\n",
        "listaN = [12,4,34,1,2,52,1,54,98,5,235,76,57,87,123,32,32]\n",
        "menor = 1\n",
        "mayor = 235\n",
        "```\n",
        "\n",
        "Además, implemente un par de test que verifiquen la correctitud de las funciones.\n",
        "\n",
        "**Nota**: Idealmente se hacen tests sobre los casos bordes. ¿Qué casos bordes tendríamos aquí?\n"
      ],
      "id": "f3kb_M-Jg_vZ"
    },
    {
      "cell_type": "code",
      "execution_count": null,
      "metadata": {
        "cell_id": "5b56a1d50817404394b4a61a6592dae0",
        "deepnote_cell_height": 66,
        "deepnote_cell_type": "code",
        "tags": [],
        "id": "DALc4N21g_vZ"
      },
      "outputs": [],
      "source": [
        "############ Su Código Aquí####################\n",
        "def elemento_menor(lista):\n",
        "  menor=lista[0]\n",
        "  i=0\n",
        "  while i<len(lista):\n",
        "    if lista[i]<menor:\n",
        "      menor=lista[i]\n",
        "    i+=1\n",
        "  return menor\n",
        "\n",
        "def elemento_mayor(lista):\n",
        "  mayor=lista[0]\n",
        "  for i in range(len(lista)):\n",
        "    if lista[i]>mayor:\n",
        "      mayor=lista[i]\n",
        "  return mayor\n",
        "\n",
        "def promedio_lista(lista):\n",
        "  largo=len(lista)\n",
        "  suma=0\n",
        "  for elemento in lista:\n",
        "    suma+=elemento\n",
        "  return suma/largo"
      ],
      "id": "DALc4N21g_vZ"
    },
    {
      "cell_type": "code",
      "source": [
        "listaN = [12,4,34,1,2,52,1,54,98,5,235,76,57,87,123,32,32]"
      ],
      "metadata": {
        "id": "tk5b7ti4hJ2U"
      },
      "id": "tk5b7ti4hJ2U",
      "execution_count": null,
      "outputs": []
    },
    {
      "cell_type": "code",
      "source": [
        "elemento_menor(listaN)"
      ],
      "metadata": {
        "colab": {
          "base_uri": "https://localhost:8080/"
        },
        "id": "sJV01RFphOrg",
        "outputId": "1024fbd3-2a1b-49f6-f5bd-372135d1916c"
      },
      "id": "sJV01RFphOrg",
      "execution_count": null,
      "outputs": [
        {
          "output_type": "execute_result",
          "data": {
            "text/plain": [
              "1"
            ]
          },
          "metadata": {},
          "execution_count": 3
        }
      ]
    },
    {
      "cell_type": "code",
      "source": [
        "elemento_mayor(listaN)"
      ],
      "metadata": {
        "colab": {
          "base_uri": "https://localhost:8080/"
        },
        "id": "smbRZCquhPOr",
        "outputId": "78613684-53ae-41ba-aeaf-102d9cdf765a"
      },
      "id": "smbRZCquhPOr",
      "execution_count": null,
      "outputs": [
        {
          "output_type": "execute_result",
          "data": {
            "text/plain": [
              "235"
            ]
          },
          "metadata": {},
          "execution_count": 4
        }
      ]
    },
    {
      "cell_type": "code",
      "source": [
        "promedio_lista(listaN)"
      ],
      "metadata": {
        "colab": {
          "base_uri": "https://localhost:8080/"
        },
        "id": "2C-PtGsWhRO7",
        "outputId": "4483595f-ed6f-439d-bca7-ea9f27ae07db"
      },
      "id": "2C-PtGsWhRO7",
      "execution_count": null,
      "outputs": [
        {
          "output_type": "execute_result",
          "data": {
            "text/plain": [
              "53.23529411764706"
            ]
          },
          "metadata": {},
          "execution_count": 5
        }
      ]
    },
    {
      "cell_type": "code",
      "source": [
        "listaN2 = [3,1,2,1,5]"
      ],
      "metadata": {
        "id": "j9fEnRKbNsRC"
      },
      "id": "j9fEnRKbNsRC",
      "execution_count": null,
      "outputs": []
    },
    {
      "cell_type": "code",
      "source": [
        "elemento_menor(listaN2)"
      ],
      "metadata": {
        "colab": {
          "base_uri": "https://localhost:8080/"
        },
        "id": "zip7zyf5NxdS",
        "outputId": "0d036076-eff4-42e1-e41c-207dfb7e9cb2"
      },
      "id": "zip7zyf5NxdS",
      "execution_count": null,
      "outputs": [
        {
          "output_type": "execute_result",
          "data": {
            "text/plain": [
              "1"
            ]
          },
          "metadata": {},
          "execution_count": 7
        }
      ]
    },
    {
      "cell_type": "code",
      "source": [
        "elemento_mayor(listaN2)"
      ],
      "metadata": {
        "colab": {
          "base_uri": "https://localhost:8080/"
        },
        "id": "_q3yfqyRNxNB",
        "outputId": "955cd1cc-fd3e-4076-e001-ccc24fbecfa7"
      },
      "id": "_q3yfqyRNxNB",
      "execution_count": null,
      "outputs": [
        {
          "output_type": "execute_result",
          "data": {
            "text/plain": [
              "5"
            ]
          },
          "metadata": {},
          "execution_count": 8
        }
      ]
    },
    {
      "cell_type": "markdown",
      "metadata": {
        "cell_id": "00011-9485688f-4549-4db1-b6e3-b5c8fd44ec75",
        "deepnote_cell_height": 179.1875,
        "deepnote_cell_type": "markdown",
        "id": "gP1HDP_Rg_va"
      },
      "source": [
        "### Pregunta 2\n",
        "\n",
        " Dada una lista de n números, no ordenados, genere una función que ordene la lista de mayor a menor.\n",
        "\n",
        " ```python\n",
        "def ordenar(lista):\n",
        "    pass\n",
        " ```"
      ],
      "id": "gP1HDP_Rg_va"
    },
    {
      "cell_type": "code",
      "execution_count": null,
      "metadata": {
        "cell_id": "f7dd50193057462eb733ee0ce9d3ba27",
        "deepnote_cell_height": 66,
        "deepnote_cell_type": "code",
        "tags": [],
        "id": "QOmmRmsRg_va"
      },
      "outputs": [],
      "source": [
        "############ Su Código Aquí####################\n",
        "def ordenar(lista):\n",
        "  for i in range(1, len(lista)):\n",
        "    actual = lista[i] \n",
        "    indice = i-1 \n",
        "    while indice>=0:\n",
        "      if actual>lista[indice]:\n",
        "        lista[indice+1] = lista[indice]\n",
        "        lista[indice] = actual\n",
        "        indice = indice - 1\n",
        "      else:\n",
        "        break\n",
        "  return lista"
      ],
      "id": "QOmmRmsRg_va"
    },
    {
      "cell_type": "code",
      "source": [
        "listaN = [5,9,4,2,1,3,6,7,8]\n",
        "ordenar(listaN)"
      ],
      "metadata": {
        "colab": {
          "base_uri": "https://localhost:8080/"
        },
        "id": "k560to9UN3mV",
        "outputId": "cd27a802-5f90-4bfb-e5da-45bbf751e77c"
      },
      "id": "k560to9UN3mV",
      "execution_count": null,
      "outputs": [
        {
          "output_type": "execute_result",
          "data": {
            "text/plain": [
              "[9, 8, 7, 6, 5, 4, 3, 2, 1]"
            ]
          },
          "metadata": {},
          "execution_count": 10
        }
      ]
    },
    {
      "cell_type": "markdown",
      "metadata": {
        "cell_id": "00016-09c4e927-f62b-46c9-b2cd-f63211833e75",
        "deepnote_cell_height": 100.390625,
        "deepnote_cell_type": "markdown",
        "id": "Sm9xORQLg_va"
      },
      "source": [
        "### Pregunta 3\n",
        "Genere una función que obtenga la moda de una lista usando diccionarios."
      ],
      "id": "Sm9xORQLg_va"
    },
    {
      "cell_type": "code",
      "execution_count": null,
      "metadata": {
        "cell_id": "e860ad8fe0624f06ad77c66c71098b06",
        "deepnote_cell_height": 66,
        "deepnote_cell_type": "code",
        "tags": [],
        "id": "Vxk-F5G2g_vb"
      },
      "outputs": [],
      "source": [
        "############ Su Código Aquí####################\n",
        "def moda(lista):\n",
        "  diccionario = {}\n",
        "  for elemento in lista:\n",
        "    if elemento not in diccionario:\n",
        "      llave = elemento \n",
        "      valor = lista.count(elemento)\n",
        "      diccionario[llave]=valor\n",
        "    else:\n",
        "      continue\n",
        "  moda = max(diccionario, key=lambda key: diccionario[key])\n",
        "  return moda"
      ],
      "id": "Vxk-F5G2g_vb"
    },
    {
      "cell_type": "code",
      "source": [
        "listaN=[2,7,1,5,3,7,5,10,7]\n",
        "moda(listaN)"
      ],
      "metadata": {
        "colab": {
          "base_uri": "https://localhost:8080/"
        },
        "id": "dUk1ZmZUN_6S",
        "outputId": "0a75f862-99d9-469a-bf38-41330f7833e9"
      },
      "id": "dUk1ZmZUN_6S",
      "execution_count": null,
      "outputs": [
        {
          "output_type": "execute_result",
          "data": {
            "text/plain": [
              "7"
            ]
          },
          "metadata": {},
          "execution_count": 12
        }
      ]
    },
    {
      "cell_type": "markdown",
      "metadata": {
        "cell_id": "00028-98d28c67-5f56-4fb1-8148-2f35aefd6f48",
        "deepnote_cell_height": 122.796875,
        "deepnote_cell_type": "markdown",
        "id": "zd3Jq1jOg_vb"
      },
      "source": [
        "### Pregunta 4\n",
        "Vea si un número es palíndromo o no. Los números palíndromos son aquellos que al leerlos al revés y al derecho son iguales, por ejemplo el 123321 o el 98789."
      ],
      "id": "zd3Jq1jOg_vb"
    },
    {
      "cell_type": "code",
      "execution_count": null,
      "metadata": {
        "cell_id": "de690768e87a4e49a9e072db5f50745c",
        "deepnote_cell_height": 66,
        "deepnote_cell_type": "code",
        "tags": [],
        "id": "4gbkHNhVg_vb"
      },
      "outputs": [],
      "source": [
        "############ Su Código Aquí####################\n",
        "def bool_palindromo(num):\n",
        "  num_rev = num\n",
        "  rever = 0\n",
        "  while num_rev>0:\n",
        "    resto = num_rev%10\n",
        "    rever = rever*10 + resto\n",
        "    num_rev = num_rev//10\n",
        "  if rever == num:\n",
        "    return True\n",
        "  else:\n",
        "    return False"
      ],
      "id": "4gbkHNhVg_vb"
    },
    {
      "cell_type": "code",
      "source": [
        "bool_palindromo(123321)"
      ],
      "metadata": {
        "colab": {
          "base_uri": "https://localhost:8080/"
        },
        "id": "tfe3219DOFUG",
        "outputId": "ddaf43ea-c131-4ff2-d9c8-f9f51edeb086"
      },
      "id": "tfe3219DOFUG",
      "execution_count": null,
      "outputs": [
        {
          "output_type": "execute_result",
          "data": {
            "text/plain": [
              "True"
            ]
          },
          "metadata": {},
          "execution_count": 14
        }
      ]
    },
    {
      "cell_type": "code",
      "source": [
        "bool_palindromo(1234)"
      ],
      "metadata": {
        "colab": {
          "base_uri": "https://localhost:8080/"
        },
        "id": "evQGm2muOJP8",
        "outputId": "2ff30380-6182-4825-84ce-5efa34220abe"
      },
      "id": "evQGm2muOJP8",
      "execution_count": null,
      "outputs": [
        {
          "output_type": "execute_result",
          "data": {
            "text/plain": [
              "False"
            ]
          },
          "metadata": {},
          "execution_count": 15
        }
      ]
    },
    {
      "cell_type": "markdown",
      "metadata": {
        "cell_id": "00030-ac36b7b1-db34-4043-bf9c-feaaa8f85e0b",
        "deepnote_cell_height": 196.796875,
        "deepnote_cell_type": "markdown",
        "id": "EIkCHSvwg_vb"
      },
      "source": [
        "### Pregunta 5\n",
        "Dado un texto, conviértalo en estilo Camel Case, vea el siguiente ejemplo:\n",
        "\n",
        "    Texto inicial: “Este es un texto de ejemplo para mostrar el Camel Case”.\n",
        "\n",
        "    Texto final: “EsteEsUnTextoDeEjemploParaMostrarElCamelCase”."
      ],
      "id": "EIkCHSvwg_vb"
    },
    {
      "cell_type": "code",
      "execution_count": null,
      "metadata": {
        "cell_id": "9d672ec452da4abcba3c86d499d3feff",
        "deepnote_cell_height": 66,
        "deepnote_cell_type": "code",
        "tags": [],
        "id": "oXmlBoGtg_vb"
      },
      "outputs": [],
      "source": [
        "############ Su Código Aquí####################\n",
        "def convert_to_CamerCase(texto):\n",
        "  semi_texto = texto.title()\n",
        "  return ''.join(semi_texto.split(' '))"
      ],
      "id": "oXmlBoGtg_vb"
    },
    {
      "cell_type": "code",
      "source": [
        "texto = \"Este es un texto de ejemplo para mostrar el Camel Case\"\n",
        "convert_to_CamerCase(texto)"
      ],
      "metadata": {
        "colab": {
          "base_uri": "https://localhost:8080/",
          "height": 36
        },
        "id": "7OAruKGGOQK8",
        "outputId": "8b4bf2c1-4a6c-4a48-edba-6d903ae7f1d4"
      },
      "id": "7OAruKGGOQK8",
      "execution_count": null,
      "outputs": [
        {
          "output_type": "execute_result",
          "data": {
            "text/plain": [
              "'EsteEsUnTextoDeEjemploParaMostrarElCamelCase'"
            ],
            "application/vnd.google.colaboratory.intrinsic+json": {
              "type": "string"
            }
          },
          "metadata": {},
          "execution_count": 18
        }
      ]
    },
    {
      "cell_type": "markdown",
      "metadata": {
        "cell_id": "00041-b204b57b-6110-4cf1-9216-de17ab3070c5",
        "deepnote_cell_height": 233.1875,
        "deepnote_cell_type": "markdown",
        "id": "vRcWpbc_g_vc"
      },
      "source": [
        "### Pregunta 6\n",
        "Dado un texto y una letra indique cuantas veces se repite la letra dentro del texto, vea el\n",
        "siguiente ejemplo:\n",
        "\n",
        "Texto inicial: “Este es un texto de ejemplo para contar la cantidad de veces que aparece cierta letra”.\n",
        "\n",
        "    Letra a buscar: e\n",
        "    Respuesta: “La letra e aparece 15 veces.\n",
        "    Observación: Las mayúsculas y minúsculas deben ser contadas."
      ],
      "id": "vRcWpbc_g_vc"
    },
    {
      "cell_type": "code",
      "source": [
        "def contar_letra(texto, letra):\n",
        "  print(\"Letra a buscar: {}\".format(letra))\n",
        "  texto=texto.lower()\n",
        "  cantidad = texto.count(letra)\n",
        "  print(\"Respuesta: La letra {} aparece {} veces\".format(letra, cantidad))\n",
        "\n",
        "texto=\"Este es un texto de ejemplo para contar la cantidad de veces que aparece cierta letra\"\n",
        "contar_letra(texto, 'e')"
      ],
      "metadata": {
        "id": "o6o9IT4shdV1",
        "colab": {
          "base_uri": "https://localhost:8080/"
        },
        "outputId": "cae5b06f-e320-419d-cdc8-42001b712196"
      },
      "id": "o6o9IT4shdV1",
      "execution_count": null,
      "outputs": [
        {
          "output_type": "stream",
          "name": "stdout",
          "text": [
            "Letra a buscar: e\n",
            "Respuesta: La letra e aparece 15 veces\n"
          ]
        }
      ]
    },
    {
      "cell_type": "markdown",
      "metadata": {
        "cell_id": "00043-c0c39f34-ca5b-48db-971d-aca44dd15e4b",
        "deepnote_cell_height": 144.796875,
        "deepnote_cell_type": "markdown",
        "id": "AkjSwonJg_vc"
      },
      "source": [
        "## Problemas Varios 🤩\n",
        "\n",
        "A continuación se presentan diferentes problemas, elabore una **función** que los resuelva. \n",
        "\n",
        "**Nota:** A diferencia de la primera parte, en esta sección puede aplicar todos sus conocimientos para el desarrollo de las funciones."
      ],
      "id": "AkjSwonJg_vc"
    },
    {
      "cell_type": "markdown",
      "metadata": {
        "ExecuteTime": {
          "end_time": "2021-03-26T14:14:35.180438Z",
          "start_time": "2021-03-26T14:14:35.175467Z"
        },
        "cell_id": "00044-21224815-9eb6-4ed5-830c-0a1aed7866f0",
        "deepnote_cell_height": 463.8125,
        "deepnote_cell_type": "markdown",
        "id": "gNGjlVSng_vc"
      },
      "source": [
        "### Pregunta 1:\n",
        "\n",
        "Un monto inicial de dinero (por ejemplo un millón de pesos) se puede depositar en un banco con un interés anual de 5%. Esto significa  que  cumplido  un  año  se  dispondrá  de  \\\\$1.050.000. Si se deposita por dos años, entonces  al  finalizar  el  2º  año se dispondrá de \\\\$1.102.500,  es  decir,  \\\\$1.050.000  reajustado  en  5%.  \n",
        "\n",
        "Al  respecto, si  se  invoca  a  la  función  `calc_capital_final(1000000, 5, 2)`  entrega  el resultado `1050000.0`. \n",
        "\n",
        "Escriba la función `calc_capital_final`\n",
        "\n",
        "$$C_f = C_i(1+i)^n$$\n",
        "\n",
        "- $C_f$ = Capital Final\n",
        "- $C_i$ = Capital Inicial\n",
        "- $i$ = Tasa de interés\n",
        "- $n$ = Periodo del ahorro\n",
        "\n",
        "Además, incluya tests que certifiquen el correcto funcionamiento de la función."
      ],
      "id": "gNGjlVSng_vc"
    },
    {
      "cell_type": "code",
      "execution_count": null,
      "metadata": {
        "ExecuteTime": {
          "end_time": "2021-03-26T20:20:21.273258Z",
          "start_time": "2021-03-26T20:20:21.259257Z"
        },
        "cell_id": "00047-f724e446-1bde-4959-8f18-127ea8f869a3",
        "deepnote_cell_height": 84,
        "deepnote_cell_type": "code",
        "id": "pbABq5jHg_vd",
        "colab": {
          "base_uri": "https://localhost:8080/"
        },
        "outputId": "a7fc7df5-6cfe-4a36-acf0-fea68b58ade1"
      },
      "outputs": [
        {
          "output_type": "execute_result",
          "data": {
            "text/plain": [
              "1102500.0"
            ]
          },
          "metadata": {},
          "execution_count": 20
        }
      ],
      "source": [
        "def calc_capital_final(capital_inicial, tasa_interes, anhos):\n",
        "    capital_final = capital_inicial * ((1+tasa_interes/100)**anhos)\n",
        "    return capital_final\n",
        "\n",
        "calc_capital_final(1000000,5,2)"
      ],
      "id": "pbABq5jHg_vd"
    },
    {
      "cell_type": "code",
      "source": [
        "calc_capital_final(1000000,5,2)"
      ],
      "metadata": {
        "colab": {
          "base_uri": "https://localhost:8080/"
        },
        "id": "IF6-M9djsanz",
        "outputId": "f03c3388-5c19-462f-ea92-531603437af3"
      },
      "id": "IF6-M9djsanz",
      "execution_count": null,
      "outputs": [
        {
          "output_type": "execute_result",
          "data": {
            "text/plain": [
              "1102500.0"
            ]
          },
          "metadata": {},
          "execution_count": 166
        }
      ]
    },
    {
      "cell_type": "markdown",
      "metadata": {
        "cell_id": "00051-12e27a0b-6dfe-41aa-95b9-7b4bd22e12d1",
        "deepnote_cell_height": 280,
        "deepnote_cell_type": "markdown",
        "id": "mqfMWeKOg_vd"
      },
      "source": [
        "### Pregunta 2: \n",
        "\n",
        "Escriba una función que para $x \\ne 0$, calcule  $\\frac{1}{x^0} + \\frac{1}{x^1} + \\frac{1}{x^2} + \\dots + \\frac{1}{x^n}$. Para esto, considere `x` como un `int` o `float` y a `n` como un `int` en la siguiente función:\n",
        "\n",
        "```python\n",
        "def sumatoria(x,n):\n",
        "    pass\n",
        "```\n",
        "\n",
        "Use la función anterior en un programa que determine si la suma  $\\frac{1}{x^0} + \\frac{1}{x^1} + \\frac{1}{x^2} + \\dots + \\frac{1}{x^n}$ converge o no.  Utilice un iterador para probar diferentes n en la función `sumatoria` creada, donde el programa deberá finalizar si cumple o falla los siguientes puntos de convergencia:\n",
        "\n",
        "- Se considera que la suma converge si la diferencia entre dos sumas sucesivas resulta menor que $10^{-3}$. Ejemplo: $sumatoria(x,1) - sumatoria(x,0) < 10^{-3}$\n",
        "- Se considera que no converge si para $n=20$ aún no se alcanza el criterio de convergencia. "
      ],
      "id": "mqfMWeKOg_vd"
    },
    {
      "cell_type": "code",
      "execution_count": null,
      "metadata": {
        "cell_id": "7ec5c56ff40e4cc4bd69b4ff11a0137a",
        "deepnote_cell_height": 66,
        "deepnote_cell_type": "code",
        "tags": [],
        "id": "---znKV5g_vd"
      },
      "outputs": [],
      "source": [
        "############ Su Código Aquí####################\n",
        "def sumatoria(x, n):\n",
        "  suma=0\n",
        "  for i in range(n):\n",
        "    suma+= 1/(x**i)\n",
        "  return suma\n",
        "\n",
        "\n",
        "def convergencia(x,n):\n",
        "  criterio = 10**-3\n",
        "  i=0\n",
        "  while i<n:\n",
        "    if i==20:\n",
        "      print(\"La suma no converge\")\n",
        "      break\n",
        "    suma_anterior = sumatoria(x,i)\n",
        "    suma_posterior = sumatoria(x,i+1)\n",
        "    suma_sucesiva = suma_posterior-suma_anterior\n",
        "    if suma_sucesiva<criterio:\n",
        "      print(\"La suma converge\")\n",
        "      break\n",
        "    i+=1"
      ],
      "id": "---znKV5g_vd"
    },
    {
      "cell_type": "code",
      "source": [
        "convergencia(2,30)"
      ],
      "metadata": {
        "colab": {
          "base_uri": "https://localhost:8080/"
        },
        "id": "VqB2d2TpiEq0",
        "outputId": "06137b70-9e2a-43eb-a936-6f928acafc71"
      },
      "id": "VqB2d2TpiEq0",
      "execution_count": null,
      "outputs": [
        {
          "output_type": "stream",
          "name": "stdout",
          "text": [
            "La suma converge\n"
          ]
        }
      ]
    },
    {
      "cell_type": "code",
      "source": [
        "convergencia(0.5,30)"
      ],
      "metadata": {
        "colab": {
          "base_uri": "https://localhost:8080/"
        },
        "id": "ae8MkmtakL7U",
        "outputId": "24781249-233b-4112-9784-efdb26e3635f"
      },
      "id": "ae8MkmtakL7U",
      "execution_count": null,
      "outputs": [
        {
          "output_type": "stream",
          "name": "stdout",
          "text": [
            "La suma no converge\n"
          ]
        }
      ]
    },
    {
      "cell_type": "markdown",
      "metadata": {
        "cell_id": "00054-b78328ba-c2fc-4019-b051-0d3759dedd6b",
        "deepnote_cell_height": 195.59375,
        "deepnote_cell_type": "markdown",
        "id": "dvibUN-Sg_vd"
      },
      "source": [
        "### Pregunta 3:\n",
        "\n",
        "Un anagrama es una palabra que resulta de la transposición de letras de otra palabra o frase.\n",
        "\n",
        "Por ejemplo, las palabras “caso” y “caos” sonan agramas de “saco”  y las palabras “acaso” y “ocaso” no son anagramas de “caso”. Las anagramas poseen las mismas letras, con la misma cantidad de apariciones, pero en un orden diferente\n",
        "\n",
        "Escriba la función `def anagrama(x,y)` que reciba dos palabras y entregue `True` si son anagramas y `False` si no.\n"
      ],
      "id": "dvibUN-Sg_vd"
    },
    {
      "cell_type": "code",
      "execution_count": null,
      "metadata": {
        "cell_id": "6726c604d7f340fa81d8167f40ad07cb",
        "deepnote_cell_height": 66,
        "deepnote_cell_type": "code",
        "tags": [],
        "id": "wUTILg2Xg_ve"
      },
      "outputs": [],
      "source": [
        "############ Su Código Aquí####################\n",
        "def anagrama(x,y):\n",
        "  x=x.lower()\n",
        "  y=y.lower()\n",
        "  lista_ordenada_x = ordenar(list(x))\n",
        "  lista_ordenada_y = ordenar(list(y))\n",
        "  if str(lista_ordenada_x) == str(lista_ordenada_y):\n",
        "    return True\n",
        "  else:\n",
        "    return False"
      ],
      "id": "wUTILg2Xg_ve"
    },
    {
      "cell_type": "code",
      "source": [
        "anagrama('caso', 'caos')"
      ],
      "metadata": {
        "colab": {
          "base_uri": "https://localhost:8080/"
        },
        "id": "k6KQSllcml5I",
        "outputId": "cfdc6503-f65f-4726-c92e-5c1d118f95f0"
      },
      "id": "k6KQSllcml5I",
      "execution_count": null,
      "outputs": [
        {
          "output_type": "execute_result",
          "data": {
            "text/plain": [
              "True"
            ]
          },
          "metadata": {},
          "execution_count": 25
        }
      ]
    },
    {
      "cell_type": "code",
      "source": [
        "anagrama('saco', 'caos')"
      ],
      "metadata": {
        "colab": {
          "base_uri": "https://localhost:8080/"
        },
        "id": "87JfEYEPmuJe",
        "outputId": "43d983db-6fa4-435b-b1ae-9bbb7fad36a2"
      },
      "id": "87JfEYEPmuJe",
      "execution_count": null,
      "outputs": [
        {
          "output_type": "execute_result",
          "data": {
            "text/plain": [
              "True"
            ]
          },
          "metadata": {},
          "execution_count": 26
        }
      ]
    },
    {
      "cell_type": "code",
      "source": [
        "anagrama('acaso', 'ocaso')"
      ],
      "metadata": {
        "colab": {
          "base_uri": "https://localhost:8080/"
        },
        "id": "bU-Y7ClDmxAi",
        "outputId": "e0d46c67-8135-481a-9ff0-0391afaa2265"
      },
      "id": "bU-Y7ClDmxAi",
      "execution_count": null,
      "outputs": [
        {
          "output_type": "execute_result",
          "data": {
            "text/plain": [
              "False"
            ]
          },
          "metadata": {},
          "execution_count": 27
        }
      ]
    },
    {
      "cell_type": "markdown",
      "metadata": {
        "ExecuteTime": {
          "end_time": "2021-03-26T14:17:46.644225Z",
          "start_time": "2021-03-26T14:17:46.636254Z"
        },
        "cell_id": "00057-ee7d4cf6-11a3-47c7-b0ff-36ec3452d453",
        "deepnote_cell_height": 480,
        "deepnote_cell_type": "markdown",
        "id": "FTUGD0vbg_ve"
      },
      "source": [
        "### Pregunta 4:\n",
        "\n",
        "Programe el juego gato.\n",
        "Para esto:\n",
        "\n",
        "- Cree una matriz inicial (lista de listas) que contenga el estado actual del gato (al inicio).\n",
        "\n",
        "- Cree la función `es_tachable` la cual reciba un par de coordenadas `(i, j)` y que retorne si la posición ingresada se puede tachar (`True`) o ya se encuentra ocupada (`False`).\n",
        "\n",
        "- Cree una función `tachar` que modifiqua el estado del gato para reflejar la marca de uno de los jugadores. Esta debe recibir una coordenada `(i, j)` y el valor de la posicion `v` (solo `'X'` o `'O'`) y debe variar el estado del gato de tal manera que refleje una jugada.  La función debe retornar `True` si fue capaz de o `False` en caso contrario.\n",
        "\n",
        "- Cree la función `existe_ganador` que verifique si luego de una jugada existe algún ganador. Si existe, retorna `True`. `False` en caso contrario.\n",
        "\n",
        "\n",
        "\n",
        "\n",
        "- Implemente un ciclo while que en cada momento no se detenga hasta que exista un jugador ganador. En este ciclo:\n",
        "    - Informa sobre el estado actual del gato y sobre el jugador que le corresponde marcar una casilla.\n",
        "    - Se debe solicitar al jugador que ingrese la coordenada\n",
        "    - Se debe preguntar si la jugada del jugador actual es válida.\n",
        "    - Se debe actualizar el estado del gato\n",
        "    - Se debe cambiar al siguiente jugador.\n"
      ],
      "id": "FTUGD0vbg_ve"
    },
    {
      "cell_type": "code",
      "execution_count": null,
      "metadata": {
        "ExecuteTime": {
          "end_time": "2021-03-26T14:31:46.042560Z",
          "start_time": "2021-03-26T14:31:46.030554Z"
        },
        "cell_id": "00059-0da54cd3-d85e-4bd9-822b-db9220238e5a",
        "deepnote_cell_height": 84,
        "deepnote_cell_type": "code",
        "id": "hVc79UDdg_ve"
      },
      "outputs": [],
      "source": [
        "def es_tachable(tablero, i, j):\n",
        "  if not tablero[i][j]:\n",
        "    return True\n",
        "  else:\n",
        "    return False\n",
        "  \n",
        "def tachar(tablero, i ,j, jugada):\n",
        "  if es_tachable(tablero, i ,j):\n",
        "    tablero[i][j] = jugada\n",
        "    return True\n",
        "  else:\n",
        "    return False\n",
        "\n",
        "def estado_gato(tablero):\n",
        "  for fila in tablero:\n",
        "    print('  '.join([i if i is not None else \" \" for i in fila]))\n",
        "\n",
        "def existe_ganador(tablero):\n",
        "  simbol1 = 'X'\n",
        "  simbol2 = 'O'\n",
        "  fila0 = tablero[0]\n",
        "  fila1 = tablero[1]\n",
        "  fila2 = tablero[2]\n",
        "  columna0 = [fila[0] for fila in tablero] \n",
        "  columna1 = [fila[1] for fila in tablero] \n",
        "  columna2 = [fila[2] for fila in tablero] \n",
        "  diagonal = [tablero[i][i] for i in range(len(tablero))] \n",
        "\n",
        "  if (fila0.count(simbol1)==3) or (fila0.count(simbol2)==3):\n",
        "    return True\n",
        "  elif (fila1.count(simbol1)==3) or (fila1.count(simbol2)==3):\n",
        "    return True\n",
        "  elif (fila2.count(simbol1)==3) or (fila2.count(simbol2)==3):\n",
        "    return True\n",
        "  elif (diagonal.count(simbol1)==3) or (diagonal.count(simbol2)==3):\n",
        "    return True\n",
        "  elif (columna0.count(simbol1)==3) or (columna0.count(simbol2)==3):\n",
        "    return True\n",
        "  elif (columna1.count(simbol1)==3) or (columna1.count(simbol2)==3):\n",
        "    return True\n",
        "  elif (columna2.count(simbol1)==3) or (columna2.count(simbol2)==3):\n",
        "    return True\n",
        "  else:\n",
        "    return False\n",
        "                                                                      \n",
        "  \n",
        "def print_gato(tablero):\n",
        "    ############ Su Código Aquí####################\n",
        "    print(\"##########Bienvenido(a) al juego del Gato\")\n",
        "\n",
        "    while existe_ganador(tablero) is False:\n",
        "\n",
        "        \n",
        "      jugador1 = input(\"Jugador 1 ingrese su valor y sus coordenadas (valor,i,j): \")\n",
        "      jugador1 = jugador1.split(\",\")\n",
        "      valor1 = jugador1[0]\n",
        "      coordenada1_i = int(jugador1[1])\n",
        "      coordenada1_j = int(jugador1[2])\n",
        "      if es_tachable(tablero, coordenada1_i, coordenada1_j):\n",
        "        tachar(tablero, coordenada1_i, coordenada1_j, valor1)\n",
        "        estado_gato(tablero)\n",
        "        if existe_ganador(tablero):\n",
        "          print(\"Ganador Jugador 1\")\n",
        "          break\n",
        "      \n",
        "      if (tablero[0]+tablero[1]+tablero[2]).count(None) == 0:\n",
        "        print(\"No hubo ganadores en este juego\")\n",
        "        break\n",
        "\n",
        "      jugador2=input(\"Jugador 2 ingrese su valor y sus coordenadas (valor,i,j): \")\n",
        "      jugador2 = jugador2.split(\",\")\n",
        "      valor2 = jugador2[0]\n",
        "      coordenada2_i = int(jugador2[1])\n",
        "      coordenada2_j = int(jugador2[2])\n",
        "\n",
        "      if es_tachable(tablero, coordenada2_i, coordenada2_j):\n",
        "        tachar(tablero, coordenada2_i, coordenada2_j, valor2)\n",
        "        estado_gato(tablero)\n",
        "        if existe_ganador(tablero):\n",
        "          print(\"Ganador Jugador 2\")\n",
        "          break\n",
        "      \n",
        "\n"
      ],
      "id": "hVc79UDdg_ve"
    },
    {
      "cell_type": "markdown",
      "source": [
        "El código anterior no contempla los errores que puedan cometer los jugadores al ingresar sus jugadas, se asume que los jugadores van viendo el estado del juego para ingresar sus jugadas, y además que no cometen errores de sintaxis."
      ],
      "metadata": {
        "id": "yQ9qcAVIoNgx"
      },
      "id": "yQ9qcAVIoNgx"
    },
    {
      "cell_type": "code",
      "source": [
        "gato = [[None,None,None],\n",
        "              [None,None,None], \n",
        "              [None,None,None]]  \n",
        "\n",
        "print_gato(gato)"
      ],
      "metadata": {
        "colab": {
          "base_uri": "https://localhost:8080/"
        },
        "id": "Hx12JKyHUL1J",
        "outputId": "2919551a-e0f2-43de-e475-0ebe91d38428"
      },
      "id": "Hx12JKyHUL1J",
      "execution_count": null,
      "outputs": [
        {
          "output_type": "stream",
          "name": "stdout",
          "text": [
            "##########Bienvenido(a) al juego del Gato\n",
            "Jugador 1 ingrese su valor y sus coordenadas (valor,i,j): X,0,0\n",
            "X      \n",
            "       \n",
            "       \n",
            "Jugador 2 ingrese su valor y sus coordenadas (valor,i,j): O,2,2\n",
            "X      \n",
            "       \n",
            "      O\n",
            "Jugador 1 ingrese su valor y sus coordenadas (valor,i,j): X,0,2\n",
            "X     X\n",
            "       \n",
            "      O\n",
            "Jugador 2 ingrese su valor y sus coordenadas (valor,i,j): O,0,1\n",
            "X  O  X\n",
            "       \n",
            "      O\n",
            "Jugador 1 ingrese su valor y sus coordenadas (valor,i,j): X,2,0\n",
            "X  O  X\n",
            "       \n",
            "X     O\n",
            "Jugador 2 ingrese su valor y sus coordenadas (valor,i,j): O,1,1\n",
            "X  O  X\n",
            "   O   \n",
            "X     O\n",
            "Jugador 1 ingrese su valor y sus coordenadas (valor,i,j): X,1,0\n",
            "X  O  X\n",
            "X  O   \n",
            "X     O\n",
            "Ganador Jugador 1\n"
          ]
        }
      ]
    },
    {
      "cell_type": "code",
      "source": [
        "gato = [[None,None,None],\n",
        "              [None,None,None], \n",
        "              [None,None,None]]  \n",
        "\n",
        "print_gato(gato)"
      ],
      "metadata": {
        "colab": {
          "base_uri": "https://localhost:8080/"
        },
        "id": "ANrZivSEeSaj",
        "outputId": "64b66942-1c3a-436d-d837-f36fcb5bc5f0"
      },
      "id": "ANrZivSEeSaj",
      "execution_count": null,
      "outputs": [
        {
          "output_type": "stream",
          "name": "stdout",
          "text": [
            "##########Bienvenido(a) al juego del Gato\n",
            "Jugador 1 ingrese su valor y sus coordenadas (valor,i,j): O,1,1\n",
            "       \n",
            "   O   \n",
            "       \n",
            "Jugador 2 ingrese su valor y sus coordenadas (valor,i,j): X,1,2\n",
            "       \n",
            "   O  X\n",
            "       \n",
            "Jugador 1 ingrese su valor y sus coordenadas (valor,i,j): O,0,2\n",
            "      O\n",
            "   O  X\n",
            "       \n",
            "Jugador 2 ingrese su valor y sus coordenadas (valor,i,j): X,2,0\n",
            "      O\n",
            "   O  X\n",
            "X      \n",
            "Jugador 1 ingrese su valor y sus coordenadas (valor,i,j): O,0,1\n",
            "   O  O\n",
            "   O  X\n",
            "X      \n",
            "Jugador 2 ingrese su valor y sus coordenadas (valor,i,j): X,2,1\n",
            "   O  O\n",
            "   O  X\n",
            "X  X   \n",
            "Jugador 1 ingrese su valor y sus coordenadas (valor,i,j): O,0,0\n",
            "O  O  O\n",
            "   O  X\n",
            "X  X   \n",
            "Ganador Jugador 1\n"
          ]
        }
      ]
    },
    {
      "cell_type": "code",
      "source": [
        "gato = [[None,None,None],\n",
        "              [None,None,None], \n",
        "              [None,None,None]]  \n",
        "\n",
        "print_gato(gato)"
      ],
      "metadata": {
        "colab": {
          "base_uri": "https://localhost:8080/"
        },
        "id": "MO0V2ui9gWpM",
        "outputId": "650b927e-0918-4c08-d5de-c60b1363a869"
      },
      "id": "MO0V2ui9gWpM",
      "execution_count": null,
      "outputs": [
        {
          "output_type": "stream",
          "name": "stdout",
          "text": [
            "##########Bienvenido(a) al juego del Gato\n",
            "Jugador 1 ingrese su valor y sus coordenadas (valor,i,j): X,0,2\n",
            "      X\n",
            "       \n",
            "       \n",
            "Jugador 2 ingrese su valor y sus coordenadas (valor,i,j): O,1,1\n",
            "      X\n",
            "   O   \n",
            "       \n",
            "Jugador 1 ingrese su valor y sus coordenadas (valor,i,j): X,0,0\n",
            "X     X\n",
            "   O   \n",
            "       \n",
            "Jugador 2 ingrese su valor y sus coordenadas (valor,i,j): O,0,1\n",
            "X  O  X\n",
            "   O   \n",
            "       \n",
            "Jugador 1 ingrese su valor y sus coordenadas (valor,i,j): X,2,1\n",
            "X  O  X\n",
            "   O   \n",
            "   X   \n",
            "Jugador 2 ingrese su valor y sus coordenadas (valor,i,j): 0,1,0\n",
            "X  O  X\n",
            "0  O   \n",
            "   X   \n",
            "Jugador 1 ingrese su valor y sus coordenadas (valor,i,j): X,1,2\n",
            "X  O  X\n",
            "0  O  X\n",
            "   X   \n",
            "Jugador 2 ingrese su valor y sus coordenadas (valor,i,j): O,2,2\n",
            "X  O  X\n",
            "0  O  X\n",
            "   X  O\n",
            "Jugador 1 ingrese su valor y sus coordenadas (valor,i,j): X,2,0\n",
            "X  O  X\n",
            "0  O  X\n",
            "X  X  O\n",
            "No hubo ganadores en este juego\n"
          ]
        }
      ]
    }
  ],
  "metadata": {
    "deepnote": {},
    "deepnote_execution_queue": [],
    "deepnote_notebook_id": "6c5a87d7-eaf9-4631-bdfe-1c6590aec534",
    "kernelspec": {
      "display_name": "Python 3",
      "language": "python",
      "name": "python3"
    },
    "language_info": {
      "codemirror_mode": {
        "name": "ipython",
        "version": 3
      },
      "file_extension": ".py",
      "mimetype": "text/x-python",
      "name": "python",
      "nbconvert_exporter": "python",
      "pygments_lexer": "ipython3",
      "version": "3.8.5"
    },
    "toc": {
      "base_numbering": 1,
      "nav_menu": {},
      "number_sections": true,
      "sideBar": true,
      "skip_h1_title": true,
      "title_cell": "Tabla de Contenidos",
      "title_sidebar": "Contenidos",
      "toc_cell": false,
      "toc_position": {},
      "toc_section_display": true,
      "toc_window_display": false
    },
    "varInspector": {
      "cols": {
        "lenName": 16,
        "lenType": 16,
        "lenVar": 40
      },
      "kernels_config": {
        "python": {
          "delete_cmd_postfix": "",
          "delete_cmd_prefix": "del ",
          "library": "var_list.py",
          "varRefreshCmd": "print(var_dic_list())"
        },
        "r": {
          "delete_cmd_postfix": ") ",
          "delete_cmd_prefix": "rm(",
          "library": "var_list.r",
          "varRefreshCmd": "cat(var_dic_list()) "
        }
      },
      "types_to_exclude": [
        "module",
        "function",
        "builtin_function_or_method",
        "instance",
        "_Feature"
      ],
      "window_display": false
    },
    "colab": {
      "name": "Lab_0_SOL.ipynb",
      "provenance": [],
      "collapsed_sections": []
    }
  },
  "nbformat": 4,
  "nbformat_minor": 5
}